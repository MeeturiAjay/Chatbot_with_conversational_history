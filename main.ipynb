{
 "cells": [
  {
   "cell_type": "code",
   "execution_count": 1,
   "metadata": {},
   "outputs": [],
   "source": [
    "from dotenv import load_dotenv\n",
    "import os\n",
    "\n",
    "load_dotenv()\n",
    "groq_api = os.getenv(\"GROQ_API_KEY\")"
   ]
  },
  {
   "cell_type": "code",
   "execution_count": 3,
   "metadata": {},
   "outputs": [],
   "source": [
    "from langchain_groq import ChatGroq\n",
    "llm = ChatGroq(model = \"mistral-saba-24b\", api_key = groq_api)"
   ]
  },
  {
   "cell_type": "code",
   "execution_count": 4,
   "metadata": {},
   "outputs": [],
   "source": [
    "from langchain_community.chat_message_histories import ChatMessageHistory\n",
    "from langchain_core.chat_history import BaseChatMessageHistory\n",
    "from langchain_core.runnables.history import RunnableWithMessageHistory\n",
    "from langchain_core.chat_history import AIMessage, HumanMessage"
   ]
  },
  {
   "cell_type": "code",
   "execution_count": 7,
   "metadata": {},
   "outputs": [],
   "source": [
    "chat_history_dictionary = {}\n",
    "\n",
    "def get_session_history(session_id) -> BaseChatMessageHistory:\n",
    "    if session_id not in chat_history_dictionary:\n",
    "        chat_history_dictionary[session_id] = ChatMessageHistory()\n",
    "    return chat_history_dictionary[session_id]\n",
    "\n",
    "with_chat_history = RunnableWithMessageHistory(llm, get_session_history)"
   ]
  },
  {
   "cell_type": "code",
   "execution_count": 12,
   "metadata": {},
   "outputs": [
    {
     "data": {
      "text/plain": [
       "\"Great to meet you, Beast! It's an honor to have an AI Engineer from Microsoft interacting with me. How can I assist you today? Whether it's related to AI, machine learning, software development, or anything else, feel free to let me know how I can help.\""
      ]
     },
     "execution_count": 12,
     "metadata": {},
     "output_type": "execute_result"
    }
   ],
   "source": [
    "config = {\"configurable\": {\"session_id\": \"chat_1\"}}\n",
    "\n",
    "response = with_chat_history.invoke(\n",
    "    HumanMessage(content = \"Hello!, I am Beast. I am an AI Engineer at Microsft\"),\n",
    "    config = config\n",
    ")\n",
    "\n",
    "response.content"
   ]
  },
  {
   "cell_type": "code",
   "execution_count": null,
   "metadata": {},
   "outputs": [
    {
     "data": {
      "text/plain": [
       "'Based on our conversation, your name is Beast and your role is an AI Engineer at Microsoft.'"
      ]
     },
     "execution_count": 17,
     "metadata": {},
     "output_type": "execute_result"
    }
   ],
   "source": [
    "# Chat history check. Whether it has stored my info or not\n",
    "response = with_chat_history.invoke(\n",
    "    HumanMessage(content = \"Hello!, Can you pls say what is my name & my role?\"),\n",
    "    config = config\n",
    ")\n",
    "\n",
    "response.content"
   ]
  },
  {
   "cell_type": "code",
   "execution_count": 18,
   "metadata": {},
   "outputs": [
    {
     "data": {
      "text/plain": [
       "\"Hello! Congratulations on turning 22! It's a significant milestone. How does it feel to be 22? What are some of your goals or plans for the future?\""
      ]
     },
     "execution_count": 18,
     "metadata": {},
     "output_type": "execute_result"
    }
   ],
   "source": [
    "# New session checking. Whether the sessions are working correctly or not\n",
    "config1 = {\"configurable\": {\"session_id\": \"chat_2\"}}\n",
    "\n",
    "response = with_chat_history.invoke(\n",
    "    HumanMessage(content = \"Hello buddy! You know what, I am 22 years old now.\"),\n",
    "    config = config1\n",
    ")\n",
    "\n",
    "response.content"
   ]
  },
  {
   "cell_type": "code",
   "execution_count": null,
   "metadata": {},
   "outputs": [
    {
     "data": {
      "text/plain": [
       "\"I don't have access to personal information about individuals, including details like age. However, I'm here to help with any questions or topics related to AI, machine learning, or other subjects you might be interested in. How can I assist you further?\""
      ]
     },
     "execution_count": 19,
     "metadata": {},
     "output_type": "execute_result"
    }
   ],
   "source": [
    "# Now I have 2 sessions chats and some info in those.\n",
    "# In session1, history possess my name and role\n",
    "# In session2, history possess age\n",
    "\n",
    "# Lets ask session1 about my age\n",
    "response = with_chat_history.invoke(\n",
    "    HumanMessage(content = \"Can you tell me how old am I?\"),\n",
    "    config = config\n",
    ")\n",
    "\n",
    "response.content"
   ]
  },
  {
   "cell_type": "code",
   "execution_count": 20,
   "metadata": {},
   "outputs": [
    {
     "data": {
      "text/plain": [
       "\"You mentioned earlier that you are 22 years old. So, based on that information, you are currently 22 years old. If you have any other questions or if there's something specific you'd like to talk about, feel free to let me know!\""
      ]
     },
     "execution_count": 20,
     "metadata": {},
     "output_type": "execute_result"
    }
   ],
   "source": [
    "# Now lets ask session 2 the same\n",
    "\n",
    "response = with_chat_history.invoke(\n",
    "    HumanMessage(content = \"How old am I?\"),\n",
    "    config = config1\n",
    ")\n",
    "\n",
    "response.content"
   ]
  },
  {
   "cell_type": "code",
   "execution_count": null,
   "metadata": {},
   "outputs": [],
   "source": []
  }
 ],
 "metadata": {
  "kernelspec": {
   "display_name": ".venv",
   "language": "python",
   "name": "python3"
  },
  "language_info": {
   "codemirror_mode": {
    "name": "ipython",
    "version": 3
   },
   "file_extension": ".py",
   "mimetype": "text/x-python",
   "name": "python",
   "nbconvert_exporter": "python",
   "pygments_lexer": "ipython3",
   "version": "3.13.2"
  }
 },
 "nbformat": 4,
 "nbformat_minor": 2
}
